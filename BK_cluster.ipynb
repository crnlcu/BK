{
 "cells": [
  {
   "cell_type": "code",
   "execution_count": 7,
   "metadata": {},
   "outputs": [],
   "source": [
    "from MDAnalysis import Universe\n",
    "import MDAnalysis.analysis.encore as encore\n",
    "\n",
    "import numpy as np\n",
    "\n"
   ]
  },
  {
   "cell_type": "code",
   "execution_count": 8,
   "metadata": {},
   "outputs": [
    {
     "name": "stdout",
     "output_type": "stream",
     "text": [
      "2135\n"
     ]
    }
   ],
   "source": [
    "ens2=Universe(\"pdb.pdb\",\"catoflops_0.2.trr\")\n",
    "print(len(ens2.trajectory))\n",
    "protein=ens2.select_atoms('protein')\n",
    "LOP=ens2.select_atoms('resname LOP')"
   ]
  },
  {
   "cell_type": "code",
   "execution_count": 23,
   "metadata": {},
   "outputs": [],
   "source": [
    "#protein_and_lop=ens2.select_atoms('protein or resname LOP')"
   ]
  },
  {
   "cell_type": "code",
   "execution_count": 3,
   "metadata": {},
   "outputs": [],
   "source": [
    "#for ts in ens2.trajectory[::50]:\n",
    "#    ensr="
   ]
  },
  {
   "cell_type": "code",
   "execution_count": 3,
   "metadata": {},
   "outputs": [
    {
     "data": {
      "application/vnd.jupyter.widget-view+json": {
       "model_id": "9a28f51234774196b23429534344ab3d",
       "version_major": 2,
       "version_minor": 0
      },
      "text/plain": []
     },
     "metadata": {},
     "output_type": "display_data"
    },
    {
     "data": {
      "application/vnd.jupyter.widget-view+json": {
       "model_id": "02782aec4f7d4b989daff57ff352b549",
       "version_major": 2,
       "version_minor": 0
      },
      "text/plain": [
       "NGLWidget(max_frame=1067)"
      ]
     },
     "metadata": {},
     "output_type": "display_data"
    }
   ],
   "source": [
    "\n",
    "import nglview as nv\n",
    "view = nv.show_mdanalysis(ens2)\n",
    "view.add_representation('cartoon', 'protein')\n",
    "view.center()\n",
    "view"
   ]
  },
  {
   "cell_type": "code",
   "execution_count": null,
   "metadata": {},
   "outputs": [],
   "source": [
    "#for ts in ens2.trajectory:\n",
    "#    protein_and_lop.unwrap(compound='residues')\n",
    "\n",
    "#for ts in ens2.trajectory:\n",
    "#    protein_center = protein.center_of_mass(pbc=True)\n",
    "#    dim = ts.triclinic_dimensions\n",
    "#    box_center = np.sum(dim, axis=0) / 2\n",
    "#    ens2.atoms.translate(box_center - protein_center)\n",
    "\n",
    "#centered = nv.show_mdanalysis(ens2)\n",
    "#view.add_representation('cartoon', selection='protein')\n",
    "#centered.add_representation('point', 'protein')\n",
    "#centered.center()\n",
    "#centered\n",
    "\n",
    "#not_protein = ens2.select_atoms('not protein and not resname LOP')\n",
    "\n",
    "#for ts in ens2.trajectory:\n",
    "#    not_protein.wrap(compound='residues')\n",
    "\n",
    "#print(\"fine\")\n",
    "#wrapped = nv.show_mdanalysis(ens2)\n",
    "#wrapped.add_representation('point', 'protein')\n",
    "#wrapped.center()\n",
    "#wrapped"
   ]
  },
  {
   "cell_type": "code",
   "execution_count": 9,
   "metadata": {},
   "outputs": [
    {
     "name": "stdout",
     "output_type": "stream",
     "text": [
      "[<ClusterCollection with 105 clusters>, <ClusterCollection with 77 clusters>, <ClusterCollection with 63 clusters>, <ClusterCollection with 58 clusters>]\n"
     ]
    }
   ],
   "source": [
    "cluster_collection=encore.clustering.cluster.cluster(\n",
    "             ens2,select='resname LOP',\n",
    "             method=[encore.AffinityPropagationNative(preference=-2.),\n",
    "                     encore.AffinityPropagationNative(preference=-3.),\n",
    "                     encore.AffinityPropagationNative(preference=-4.),\n",
    "                     encore.AffinityPropagationNative(preference=-5.)])\n",
    "print(cluster_collection)\n"
   ]
  },
  {
   "cell_type": "code",
   "execution_count": 14,
   "metadata": {},
   "outputs": [
    {
     "data": {
      "text/plain": [
       "[<Cluster with 38 elements, centroid=35, id=0>,\n",
       " <Cluster with 21 elements, centroid=75, id=1>,\n",
       " <Cluster with 19 elements, centroid=81, id=2>,\n",
       " <Cluster with 33 elements, centroid=88, id=3>,\n",
       " <Cluster with 31 elements, centroid=169, id=4>,\n",
       " <Cluster with 19 elements, centroid=192, id=5>,\n",
       " <Cluster with 16 elements, centroid=213, id=6>,\n",
       " <Cluster with 41 elements, centroid=221, id=7>,\n",
       " <Cluster with 20 elements, centroid=277, id=8>,\n",
       " <Cluster with 27 elements, centroid=330, id=9>,\n",
       " <Cluster with 28 elements, centroid=345, id=10>,\n",
       " <Cluster with 37 elements, centroid=389, id=11>,\n",
       " <Cluster with 39 elements, centroid=448, id=12>,\n",
       " <Cluster with 32 elements, centroid=455, id=13>,\n",
       " <Cluster with 24 elements, centroid=495, id=14>,\n",
       " <Cluster with 37 elements, centroid=502, id=15>,\n",
       " <Cluster with 27 elements, centroid=550, id=16>,\n",
       " <Cluster with 44 elements, centroid=651, id=17>,\n",
       " <Cluster with 52 elements, centroid=707, id=18>,\n",
       " <Cluster with 49 elements, centroid=762, id=19>,\n",
       " <Cluster with 46 elements, centroid=771, id=20>,\n",
       " <Cluster with 47 elements, centroid=792, id=21>,\n",
       " <Cluster with 46 elements, centroid=806, id=22>,\n",
       " <Cluster with 73 elements, centroid=876, id=23>,\n",
       " <Cluster with 68 elements, centroid=904, id=24>,\n",
       " <Cluster with 46 elements, centroid=942, id=25>,\n",
       " <Cluster with 49 elements, centroid=958, id=26>,\n",
       " <Cluster with 20 elements, centroid=964, id=27>,\n",
       " <Cluster with 20 elements, centroid=1041, id=28>,\n",
       " <Cluster with 25 elements, centroid=1057, id=29>,\n",
       " <Cluster with 20 elements, centroid=1077, id=30>,\n",
       " <Cluster with 38 elements, centroid=1098, id=31>,\n",
       " <Cluster with 33 elements, centroid=1151, id=32>,\n",
       " <Cluster with 25 elements, centroid=1183, id=33>,\n",
       " <Cluster with 75 elements, centroid=1391, id=34>,\n",
       " <Cluster with 109 elements, centroid=1399, id=35>,\n",
       " <Cluster with 124 elements, centroid=1476, id=36>,\n",
       " <Cluster with 108 elements, centroid=1553, id=37>,\n",
       " <Cluster with 19 elements, centroid=1609, id=38>,\n",
       " <Cluster with 36 elements, centroid=1639, id=39>,\n",
       " <Cluster with 29 elements, centroid=1681, id=40>,\n",
       " <Cluster with 28 elements, centroid=1710, id=41>,\n",
       " <Cluster with 34 elements, centroid=1756, id=42>,\n",
       " <Cluster with 23 elements, centroid=1770, id=43>,\n",
       " <Cluster with 30 elements, centroid=1791, id=44>,\n",
       " <Cluster with 37 elements, centroid=1818, id=45>,\n",
       " <Cluster with 16 elements, centroid=1823, id=46>,\n",
       " <Cluster with 23 elements, centroid=1835, id=47>,\n",
       " <Cluster with 31 elements, centroid=1874, id=48>,\n",
       " <Cluster with 21 elements, centroid=1883, id=49>,\n",
       " <Cluster with 34 elements, centroid=1924, id=50>,\n",
       " <Cluster with 33 elements, centroid=1940, id=51>,\n",
       " <Cluster with 22 elements, centroid=1976, id=52>,\n",
       " <Cluster with 8 elements, centroid=2027, id=53>,\n",
       " <Cluster with 24 elements, centroid=2055, id=54>,\n",
       " <Cluster with 21 elements, centroid=2068, id=55>,\n",
       " <Cluster with 25 elements, centroid=2106, id=56>,\n",
       " <Cluster with 35 elements, centroid=2127, id=57>]"
      ]
     },
     "execution_count": 14,
     "metadata": {},
     "output_type": "execute_result"
    }
   ],
   "source": [
    "\n",
    "cluster_collection[3].clusters"
   ]
  },
  {
   "cell_type": "code",
   "execution_count": 12,
   "metadata": {},
   "outputs": [
    {
     "data": {
      "text/plain": [
       "array([   9,   10,  176,  178,  236,  334,  338,  340,  346,  348,  351,\n",
       "        355,  360,  579,  592,  641, 1879])"
      ]
     },
     "execution_count": 12,
     "metadata": {},
     "output_type": "execute_result"
    }
   ],
   "source": [
    "cluster_collection[2].clusters[0].elements"
   ]
  },
  {
   "cell_type": "code",
   "execution_count": 8,
   "metadata": {},
   "outputs": [
    {
     "data": {
      "text/plain": [
       "[10,\n",
       " 14,\n",
       " 21,\n",
       " 27,\n",
       " 37,\n",
       " 38,\n",
       " 42,\n",
       " 44,\n",
       " 55,\n",
       " 56,\n",
       " 58,\n",
       " 63,\n",
       " 65,\n",
       " 81,\n",
       " 85,\n",
       " 103,\n",
       " 116,\n",
       " 129,\n",
       " 140,\n",
       " 146,\n",
       " 149]"
      ]
     },
     "execution_count": 8,
     "metadata": {},
     "output_type": "execute_result"
    }
   ],
   "source": [
    "cluster_collection[0].get_centroids()"
   ]
  },
  {
   "cell_type": "code",
   "execution_count": 19,
   "metadata": {},
   "outputs": [],
   "source": []
  },
  {
   "cell_type": "code",
   "execution_count": 13,
   "metadata": {},
   "outputs": [],
   "source": [
    "import MDAnalysis as mda\n",
    "with mda.Writer('cl4_02.trr', ens2.atoms.n_atoms) as w:\n",
    "    for ts in ens2.trajectory[cluster_collection[2].get_centroids()]:\n",
    "        w.write(ens2.atoms)\n",
    "with mda.Writer('cl2_02.trr', ens2.atoms.n_atoms) as w:\n",
    "    for ts in ens2.trajectory[cluster_collection[0].get_centroids()]:\n",
    "        w.write(ens2.atoms)\n",
    "with mda.Writer('cl3_02.trr', ens2.atoms.n_atoms) as w:\n",
    "    for ts in ens2.trajectory[cluster_collection[1].get_centroids()]:\n",
    "        w.write(ens2.atoms)\n",
    "with mda.Writer('cl5_02.trr', ens2.atoms.n_atoms) as w:\n",
    "    for ts in ens2.trajectory[cluster_collection[3].get_centroids()]:\n",
    "        w.write(ens2.atoms)"
   ]
  },
  {
   "cell_type": "code",
   "execution_count": 17,
   "metadata": {},
   "outputs": [
    {
     "data": {
      "application/vnd.jupyter.widget-view+json": {
       "model_id": "1c80e26a3cf04f248db5ef6d2402d3db",
       "version_major": 2,
       "version_minor": 0
      },
      "text/plain": [
       "NGLWidget(max_frame=149)"
      ]
     },
     "metadata": {},
     "output_type": "display_data"
    }
   ],
   "source": [
    "\n",
    "view = nv.show_mdanalysis(protein_and_lop)\n",
    "view.center()\n",
    "view"
   ]
  },
  {
   "cell_type": "code",
   "execution_count": null,
   "metadata": {},
   "outputs": [],
   "source": []
  },
  {
   "cell_type": "code",
   "execution_count": null,
   "metadata": {},
   "outputs": [],
   "source": []
  }
 ],
 "metadata": {
  "celltoolbar": "Slideshow",
  "kernelspec": {
   "display_name": "Python 3",
   "language": "python",
   "name": "python3"
  },
  "language_info": {
   "codemirror_mode": {
    "name": "ipython",
    "version": 3
   },
   "file_extension": ".py",
   "mimetype": "text/x-python",
   "name": "python",
   "nbconvert_exporter": "python",
   "pygments_lexer": "ipython3",
   "version": "3.7.0"
  }
 },
 "nbformat": 4,
 "nbformat_minor": 4
}
