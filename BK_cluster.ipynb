{
 "cells": [
  {
   "cell_type": "code",
   "execution_count": 20,
   "metadata": {},
   "outputs": [],
   "source": [
    "from MDAnalysis import Universe\n",
    "import MDAnalysis.analysis.encore as encore\n",
    "\n",
    "import numpy as np\n",
    "\n",
    "from MDAnalysis import transformations as trans\n",
    "from MDAnalysis.analysis import rms\n",
    "from sklearn.cluster import KMeans\n"
   ]
  },
  {
   "cell_type": "code",
   "execution_count": 22,
   "metadata": {},
   "outputs": [
    {
     "name": "stdout",
     "output_type": "stream",
     "text": [
      "1068\n"
     ]
    }
   ],
   "source": [
    "ens2=Universe(\"pdb.pdb\",\"catoflops.trr\")\n",
    "print(len(ens2.trajectory))\n",
    "protein=ens2.select_atoms('protein')\n",
    "\n",
    "LOP=ens2.select_atoms('resname LOP')"
   ]
  },
  {
   "cell_type": "code",
   "execution_count": 23,
   "metadata": {},
   "outputs": [],
   "source": [
    "protein_and_lop=ens2.select_atoms('protein or resname LOP')"
   ]
  },
  {
   "cell_type": "code",
   "execution_count": 3,
   "metadata": {},
   "outputs": [],
   "source": [
    "for ts in ens2.trajectory[::50]:\n",
    "    ensr="
   ]
  },
  {
   "cell_type": "code",
   "execution_count": null,
   "metadata": {},
   "outputs": [],
   "source": [
    "nglview --enable\n",
    "import nglview as nv\n",
    "view = nv.show_mdanalysis(ens2)\n",
    "view.add_representation('cartoon', 'protein')\n",
    "view.center()\n",
    "view"
   ]
  },
  {
   "cell_type": "code",
   "execution_count": 4,
   "metadata": {},
   "outputs": [
    {
     "name": "stderr",
     "output_type": "stream",
     "text": [
      "/Library/Frameworks/Python.framework/Versions/3.7/lib/python3.7/site-packages/MDAnalysis/core/topologyattrs.py:2011: VisibleDeprecationWarning: Creating an ndarray from ragged nested sequences (which is a list-or-tuple of lists-or-tuples-or ndarrays with different lengths or shapes) is deprecated. If you meant to do this, you must specify 'dtype=object' when creating the ndarray\n",
      "  np.array(sorted(unique_bonds)), 4)\n"
     ]
    },
    {
     "ename": "NameError",
     "evalue": "name 'view' is not defined",
     "output_type": "error",
     "traceback": [
      "\u001b[0;31m---------------------------------------------------------------------------\u001b[0m",
      "\u001b[0;31mNameError\u001b[0m                                 Traceback (most recent call last)",
      "\u001b[0;32m<ipython-input-4-83e5092e5ba8>\u001b[0m in \u001b[0;36m<module>\u001b[0;34m\u001b[0m\n\u001b[1;32m      9\u001b[0m \u001b[0;34m\u001b[0m\u001b[0m\n\u001b[1;32m     10\u001b[0m \u001b[0;31m#centered = nv.show_mdanalysis(ens2)\u001b[0m\u001b[0;34m\u001b[0m\u001b[0;34m\u001b[0m\u001b[0m\n\u001b[0;32m---> 11\u001b[0;31m \u001b[0mview\u001b[0m\u001b[0;34m.\u001b[0m\u001b[0madd_representation\u001b[0m\u001b[0;34m(\u001b[0m\u001b[0;34m'cartoon'\u001b[0m\u001b[0;34m,\u001b[0m \u001b[0mselection\u001b[0m\u001b[0;34m=\u001b[0m\u001b[0;34m'protein'\u001b[0m\u001b[0;34m)\u001b[0m\u001b[0;34m\u001b[0m\u001b[0m\n\u001b[0m\u001b[1;32m     12\u001b[0m \u001b[0;31m#centered.add_representation('point', 'protein')\u001b[0m\u001b[0;34m\u001b[0m\u001b[0;34m\u001b[0m\u001b[0m\n\u001b[1;32m     13\u001b[0m \u001b[0;31m#centered.center()\u001b[0m\u001b[0;34m\u001b[0m\u001b[0;34m\u001b[0m\u001b[0m\n",
      "\u001b[0;31mNameError\u001b[0m: name 'view' is not defined"
     ]
    }
   ],
   "source": [
    "#for ts in ens2.trajectory:\n",
    "#    protein_and_lop.unwrap(compound='residues')\n",
    "\n",
    "#for ts in ens2.trajectory:\n",
    "#    protein_center = protein.center_of_mass(pbc=True)\n",
    "#    dim = ts.triclinic_dimensions\n",
    "#    box_center = np.sum(dim, axis=0) / 2\n",
    "#    ens2.atoms.translate(box_center - protein_center)\n",
    "\n",
    "#centered = nv.show_mdanalysis(ens2)\n",
    "#view.add_representation('cartoon', selection='protein')\n",
    "#centered.add_representation('point', 'protein')\n",
    "#centered.center()\n",
    "#centered\n",
    "\n",
    "#not_protein = ens2.select_atoms('not protein and not resname LOP')\n",
    "\n",
    "#for ts in ens2.trajectory:\n",
    "#    not_protein.wrap(compound='residues')\n",
    "\n",
    "#print(\"fine\")\n",
    "#wrapped = nv.show_mdanalysis(ens2)\n",
    "#wrapped.add_representation('point', 'protein')\n",
    "#wrapped.center()\n",
    "#wrapped"
   ]
  },
  {
   "cell_type": "code",
   "execution_count": 24,
   "metadata": {},
   "outputs": [
    {
     "name": "stdout",
     "output_type": "stream",
     "text": [
      "[<ClusterCollection with 67 clusters>, <ClusterCollection with 51 clusters>, <ClusterCollection with 42 clusters>]\n"
     ]
    }
   ],
   "source": [
    "cluster_collection=encore.clustering.cluster.cluster(\n",
    "             ens2,select='resname LOP',\n",
    "             method=[encore.AffinityPropagationNative(preference=-2.),\n",
    "                     encore.AffinityPropagationNative(preference=-3.),\n",
    "                     encore.AffinityPropagationNative(preference=-4.)])\n",
    "print(cluster_collection)\n"
   ]
  },
  {
   "cell_type": "code",
   "execution_count": null,
   "metadata": {},
   "outputs": [],
   "source": [
    "cluster_collection[0].clusters"
   ]
  },
  {
   "cell_type": "code",
   "execution_count": 6,
   "metadata": {},
   "outputs": [
    {
     "data": {
      "text/plain": [
       "array([ 0,  1,  2,  3,  6, 11, 12, 14, 15, 16, 17, 18, 19, 20])"
      ]
     },
     "execution_count": 6,
     "metadata": {},
     "output_type": "execute_result"
    }
   ],
   "source": [
    "cluster_collection[2].clusters[0].elements"
   ]
  },
  {
   "cell_type": "code",
   "execution_count": 8,
   "metadata": {},
   "outputs": [
    {
     "data": {
      "text/plain": [
       "[10,\n",
       " 14,\n",
       " 21,\n",
       " 27,\n",
       " 37,\n",
       " 38,\n",
       " 42,\n",
       " 44,\n",
       " 55,\n",
       " 56,\n",
       " 58,\n",
       " 63,\n",
       " 65,\n",
       " 81,\n",
       " 85,\n",
       " 103,\n",
       " 116,\n",
       " 129,\n",
       " 140,\n",
       " 146,\n",
       " 149]"
      ]
     },
     "execution_count": 8,
     "metadata": {},
     "output_type": "execute_result"
    }
   ],
   "source": [
    "cluster_collection[0].get_centroids()"
   ]
  },
  {
   "cell_type": "code",
   "execution_count": 19,
   "metadata": {},
   "outputs": [],
   "source": []
  },
  {
   "cell_type": "code",
   "execution_count": 26,
   "metadata": {},
   "outputs": [],
   "source": [
    "import MDAnalysis as mda\n",
    "with mda.Writer('cl4.trr', ens2.atoms.n_atoms) as w:\n",
    "    for ts in ens2.trajectory[cluster_collection[2].get_centroids()]:\n",
    "        w.write(ens2.atoms)\n",
    "with mda.Writer('cl2.trr', ens2.atoms.n_atoms) as w:\n",
    "    for ts in ens2.trajectory[cluster_collection[1].get_centroids()]:\n",
    "        w.write(ens2.atoms)\n",
    "with mda.Writer('cl3.trr', ens2.atoms.n_atoms) as w:\n",
    "    for ts in ens2.trajectory[cluster_collection[2].get_centroids()]:\n",
    "        w.write(ens2.atoms)"
   ]
  },
  {
   "cell_type": "code",
   "execution_count": 17,
   "metadata": {},
   "outputs": [
    {
     "data": {
      "application/vnd.jupyter.widget-view+json": {
       "model_id": "1c80e26a3cf04f248db5ef6d2402d3db",
       "version_major": 2,
       "version_minor": 0
      },
      "text/plain": [
       "NGLWidget(max_frame=149)"
      ]
     },
     "metadata": {},
     "output_type": "display_data"
    }
   ],
   "source": [
    "\n",
    "view = nv.show_mdanalysis(protein_and_lop)\n",
    "view.center()\n",
    "view"
   ]
  },
  {
   "cell_type": "code",
   "execution_count": null,
   "metadata": {},
   "outputs": [],
   "source": []
  },
  {
   "cell_type": "code",
   "execution_count": null,
   "metadata": {},
   "outputs": [],
   "source": []
  }
 ],
 "metadata": {
  "celltoolbar": "Slideshow",
  "kernelspec": {
   "display_name": "Python 3",
   "language": "python",
   "name": "python3"
  },
  "language_info": {
   "codemirror_mode": {
    "name": "ipython",
    "version": 3
   },
   "file_extension": ".py",
   "mimetype": "text/x-python",
   "name": "python",
   "nbconvert_exporter": "python",
   "pygments_lexer": "ipython3",
   "version": "3.7.0"
  }
 },
 "nbformat": 4,
 "nbformat_minor": 4
}
