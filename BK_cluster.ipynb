{
 "cells": [
  {
   "cell_type": "code",
   "execution_count": 10,
   "metadata": {},
   "outputs": [],
   "source": [
    "from MDAnalysis import Universe\n",
    "import MDAnalysis.analysis.encore as encore\n",
    "\n",
    "import numpy as np\n",
    "\n",
    "\n"
   ]
  },
  {
   "cell_type": "code",
   "execution_count": 14,
   "metadata": {},
   "outputs": [
    {
     "name": "stdout",
     "output_type": "stream",
     "text": [
      "2135\n"
     ]
    }
   ],
   "source": [
    "ens2=Universe(\"initialPLOP.pdb\",\"catoflops_0.2.trr\")\n",
    "print(len(ens2.trajectory))\n",
    "protein=ens2.select_atoms('protein')\n",
    "\n",
    "\n",
    "\n",
    "\n",
    "\n",
    "\n",
    "#LOP1=ens2.select_atoms('resname LOP and segid HETA')\n",
    "#LOP2=ens2.select_atoms('resname LOP and segid HETB')\n",
    "#LOP3=ens2.select_atoms('resname LOP and segid HETC')\n",
    "#LOP4=ens2.select_atoms('resname LOP and segid HETD')\n"
   ]
  },
  {
   "cell_type": "code",
   "execution_count": 5,
   "metadata": {},
   "outputs": [],
   "source": [
    "protein_and_lop=ens2.select_atoms('protein or resname LOP')\n"
   ]
  },
  {
   "cell_type": "code",
   "execution_count": 3,
   "metadata": {},
   "outputs": [],
   "source": [
    "for ts in ens2.trajectory[::50]:\n",
    "    ensr="
   ]
  },
  {
   "cell_type": "code",
   "execution_count": 6,
   "metadata": {},
   "outputs": [
    {
     "data": {
      "application/vnd.jupyter.widget-view+json": {
       "model_id": "2b3dff6c557a4c29b023312d92e11274",
       "version_major": 2,
       "version_minor": 0
      },
      "text/plain": []
     },
     "metadata": {},
     "output_type": "display_data"
    },
    {
     "name": "stderr",
     "output_type": "stream",
     "text": [
      "/home/lucia/anaconda3/lib/python3.8/site-packages/MDAnalysis/lib/mdamath.py:247: RuntimeWarning: invalid value encountered in double_scalars\n",
      "  alpha = np.rad2deg(np.arccos(np.dot(y, z) / (ly * lz)))\n",
      "/home/lucia/anaconda3/lib/python3.8/site-packages/MDAnalysis/lib/mdamath.py:248: RuntimeWarning: invalid value encountered in double_scalars\n",
      "  beta = np.rad2deg(np.arccos(np.dot(x, z) / (lx * lz)))\n",
      "/home/lucia/anaconda3/lib/python3.8/site-packages/MDAnalysis/lib/mdamath.py:249: RuntimeWarning: invalid value encountered in double_scalars\n",
      "  gamma = np.rad2deg(np.arccos(np.dot(x, y) / (lx * ly)))\n",
      "/home/lucia/anaconda3/lib/python3.8/site-packages/MDAnalysis/lib/mdamath.py:252: RuntimeWarning: invalid value encountered in greater\n",
      "  if np.all(box > 0.0) and alpha < 180.0 and beta < 180.0 and gamma < 180.0:\n"
     ]
    },
    {
     "data": {
      "application/vnd.jupyter.widget-view+json": {
       "model_id": "307767b76a464ea1a67103226714028f",
       "version_major": 2,
       "version_minor": 0
      },
      "text/plain": [
       "NGLWidget(max_frame=2364)"
      ]
     },
     "metadata": {},
     "output_type": "display_data"
    }
   ],
   "source": [
    "import nglview as nv\n",
    "view = nv.show_mdanalysis(ens2)\n",
    "#view.add_representation('cartoon', 'protein')\n",
    "view.center()\n",
    "view"
   ]
  },
  {
   "cell_type": "code",
   "execution_count": 17,
   "metadata": {},
   "outputs": [
    {
     "name": "stdout",
     "output_type": "stream",
     "text": [
      "fine\n"
     ]
    },
    {
     "data": {
      "application/vnd.jupyter.widget-view+json": {
       "model_id": "c974f7210d1d4693b1008e78925ab645",
       "version_major": 2,
       "version_minor": 0
      },
      "text/plain": [
       "NGLWidget(max_frame=2134)"
      ]
     },
     "metadata": {},
     "output_type": "display_data"
    }
   ],
   "source": [
    "for ts in ens2.trajectory:\n",
    "    protein_and_lop.unwrap(compound='residues')\n",
    "\n",
    "for ts in ens2.trajectory:\n",
    "    protein_center = protein.center_of_mass(pbc=True)\n",
    "    dim = ts.triclinic_dimensions\n",
    "    box_center = np.sum(dim, axis=0) / 2\n",
    "    ens2.atoms.translate(box_center - protein_center)\n",
    "\n",
    "centered = nv.show_mdanalysis(ens2)\n",
    "view.add_representation('cartoon', selection='protein')\n",
    "centered.add_representation('point', 'protein')\n",
    "centered.center()\n",
    "centered\n",
    "\n",
    "not_protein = ens2.select_atoms('not protein and not resname LOP')\n",
    "\n",
    "for ts in ens2.trajectory:\n",
    "    not_protein.wrap(compound='residues')\n",
    "\n",
    "print(\"fine\")\n",
    "wrapped = nv.show_mdanalysis(ens2)\n",
    "wrapped.add_representation('point', 'protein')\n",
    "wrapped.center()\n",
    "wrapped"
   ]
  },
  {
   "cell_type": "code",
   "execution_count": 15,
   "metadata": {},
   "outputs": [
    {
     "name": "stdout",
     "output_type": "stream",
     "text": [
      "[<ClusterCollection with 63 clusters>, <ClusterCollection with 58 clusters>]\n"
     ]
    }
   ],
   "source": [
    "cluster_collection=encore.clustering.cluster.cluster(\n",
    "             ens2,select='resname LOP',\n",
    "             method=[encore.AffinityPropagationNative(preference=-4.),\n",
    "                     encore.AffinityPropagationNative(preference=-5.)])\n",
    "print(cluster_collection)\n"
   ]
  },
  {
   "cell_type": "markdown",
   "metadata": {},
   "source": [
    "cluster_collection[0].clusters"
   ]
  },
  {
   "cell_type": "code",
   "execution_count": 53,
   "metadata": {},
   "outputs": [
    {
     "data": {
      "text/plain": [
       "array([ 0,  1,  2,  6,  8,  9, 10, 12, 17])"
      ]
     },
     "execution_count": 53,
     "metadata": {},
     "output_type": "execute_result"
    }
   ],
   "source": [
    "cluster_collection[0].clusters[0].elements"
   ]
  },
  {
   "cell_type": "code",
   "execution_count": 8,
   "metadata": {},
   "outputs": [
    {
     "data": {
      "text/plain": [
       "[10,\n",
       " 14,\n",
       " 21,\n",
       " 27,\n",
       " 37,\n",
       " 38,\n",
       " 42,\n",
       " 44,\n",
       " 55,\n",
       " 56,\n",
       " 58,\n",
       " 63,\n",
       " 65,\n",
       " 81,\n",
       " 85,\n",
       " 103,\n",
       " 116,\n",
       " 129,\n",
       " 140,\n",
       " 146,\n",
       " 149]"
      ]
     },
     "execution_count": 8,
     "metadata": {},
     "output_type": "execute_result"
    }
   ],
   "source": [
    "cluster_collection[0].get_centroids()"
   ]
  },
  {
   "cell_type": "code",
   "execution_count": 10,
   "metadata": {},
   "outputs": [],
   "source": [
    " import MDAnalysis as mda"
   ]
  },
  {
   "cell_type": "code",
   "execution_count": 23,
   "metadata": {},
   "outputs": [],
   "source": [
    "with mda.Writer('cl2.trr', ens2.atoms.n_atoms) as w:\n",
    "    for ts in ens2.trajectory[cluster_collection[0].get_centroids()]:\n",
    "        w.write(ens2.atoms)\n",
    "with mda.Writer('cl3.trr', ens2.atoms.n_atoms) as w:\n",
    "    for ts in ens2.trajectory[cluster_collection[1].get_centroids()]:\n",
    "        w.write(ens2.atoms)\n",
    "with mda.Writer('cl4.trr', ens2.atoms.n_atoms) as w:\n",
    "    for ts in ens2.trajectory[cluster_collection[2].get_centroids()]:\n",
    "        w.write(ens2.atoms)\n",
    "with mda.Writer('cl5.trr', ens2.atoms.n_atoms) as w:\n",
    "    for ts in ens2.trajectory[cluster_collection[3].get_centroids()]:\n",
    "        w.write(ens2.atoms)"
   ]
  },
  {
   "cell_type": "code",
   "execution_count": 24,
   "metadata": {},
   "outputs": [
    {
     "data": {
      "application/vnd.jupyter.widget-view+json": {
       "model_id": "59cb1e68900a4abb9317d53370452362",
       "version_major": 2,
       "version_minor": 0
      },
      "text/plain": [
       "NGLWidget(max_frame=1646)"
      ]
     },
     "metadata": {},
     "output_type": "display_data"
    }
   ],
   "source": [
    "\n",
    "view = nv.show_mdanalysis(protein_and_lop)\n",
    "view.center()\n",
    "view"
   ]
  },
  {
   "cell_type": "code",
   "execution_count": null,
   "metadata": {},
   "outputs": [],
   "source": []
  },
  {
   "cell_type": "code",
   "execution_count": null,
   "metadata": {},
   "outputs": [],
   "source": []
  }
 ],
 "metadata": {
  "celltoolbar": "Slideshow",
  "kernelspec": {
   "display_name": "Python 3",
   "language": "python",
   "name": "python3"
  },
  "language_info": {
   "codemirror_mode": {
    "name": "ipython",
    "version": 3
   },
   "file_extension": ".py",
   "mimetype": "text/x-python",
   "name": "python",
   "nbconvert_exporter": "python",
   "pygments_lexer": "ipython3",
   "version": "3.8.3"
  }
 },
 "nbformat": 4,
 "nbformat_minor": 4
}
